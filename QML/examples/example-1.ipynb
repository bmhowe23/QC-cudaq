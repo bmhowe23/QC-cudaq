{
 "cells": [
  {
   "cell_type": "code",
   "execution_count": 24,
   "metadata": {},
   "outputs": [],
   "source": [
    "import cudaq\n",
    "import numpy as np\n",
    "import scipy\n",
    "import pandas as pd\n",
    "from sklearn.datasets import fetch_openml\n",
    "from sklearn.model_selection import train_test_split\n",
    "from sklearn.datasets import fetch_openml\n",
    "from sklearn.preprocessing import StandardScaler\n",
    "from sklearn.decomposition import PCA"
   ]
  },
  {
   "cell_type": "code",
   "execution_count": 25,
   "metadata": {},
   "outputs": [],
   "source": [
    "mnist = fetch_openml('mnist_784', version=1, cache=True)\n",
    "data = mnist['data']\n",
    "labels = np.array(mnist['target'], dtype=np.int8)\n",
    "        \n",
    "\n",
    "labels_zero = labels[labels==0] \n",
    "labels_one = labels[labels==1] \n",
    "binary_labels = np.hstack((labels_zero, labels_one))\n",
    "digits_zero = data[labels==0]\n",
    "digits_one = data[labels==1]\n",
    "binary_digits = np.vstack((digits_zero, digits_one))\n",
    "        \n",
    "pca = PCA(n_components=4)\n",
    "sc = StandardScaler()\n",
    "binary_digits = sc.fit_transform(binary_digits)\n",
    "data = pca.fit_transform(binary_digits)\n",
    "data = (data-np.min(data))/(np.max(data)-np.min(data))\n",
    "\n",
    "\n",
    "x_train, x_test, y_train, y_test = train_test_split(data, binary_labels, test_size=0.2)\n",
    "\n",
    "x_train=x_train[0:500]\n",
    "x_test=x_test[0:200]\n",
    "y_train=y_train[0:500]\n",
    "y_test=y_test[0:200]"
   ]
  },
  {
   "cell_type": "code",
   "execution_count": 20,
   "metadata": {},
   "outputs": [
    {
     "data": {
      "text/plain": [
       "((500, 4), (200, 4), (500,), (200,))"
      ]
     },
     "execution_count": 20,
     "metadata": {},
     "output_type": "execute_result"
    }
   ],
   "source": [
    "x_train.shape, x_test.shape, y_train.shape, y_test.shape"
   ]
  },
  {
   "cell_type": "code",
   "execution_count": 26,
   "metadata": {},
   "outputs": [],
   "source": [
    "cudaq.set_target(\"nvidia\")\n",
    "\n",
    "qubit_count = 4\n",
    "\n",
    "@cudaq.kernel\n",
    "def kernel(angles: list[float]):\n",
    "    # Allocate a qubit that is initialised to the |0> state.\n",
    "    qubit = cudaq.qvector(qubit_count)\n",
    "\n",
    "    # Define gates and the qubits they act upon.\n",
    "    for i in range(qubit_count):\n",
    "        ry(angles[i], qubit[i])\n",
    "    \n",
    "    for i in range(qubit_count-1):\n",
    "        x.ctrl(qubit[i], qubit[i+1])\n",
    "\n",
    "# Our hamiltonian will be the Z expectation value of our qubit.\n",
    "hamiltonian = cudaq.spin.z(0)\n"
   ]
  },
  {
   "cell_type": "code",
   "execution_count": 27,
   "metadata": {},
   "outputs": [
    {
     "name": "stdout",
     "output_type": "stream",
     "text": [
      "number of image 500\n",
      "num of parameters 4\n",
      "-0.9999999469945057\n",
      "-0.9999998380422002\n",
      "-0.9999999352690816\n",
      "-0.9999999295823354\n",
      "-1.0000001747700762\n",
      "-1.0000000144677035\n",
      "-0.9999999017252038\n",
      "-0.9999999548731211\n",
      "-1.0000000856509716\n",
      "-1.0000000274555463\n",
      "[1, 1, 1, 1, 1, 1, 1, 1, 1, 1]\n"
     ]
    }
   ],
   "source": [
    "cost_values = []\n",
    "\n",
    "def cost(parameters):\n",
    "    expectation_value = cudaq.observe(kernel, hamiltonian, parameters).expectation()\n",
    "\n",
    "    return expectation_value\n",
    "\n",
    "def callback(xk):\n",
    "    cost_values.append(cost(xk))\n",
    "\n",
    "\n",
    "image_num=x_train.shape[0]\n",
    "params_num=x_train.shape[1]\n",
    "print('number of image', image_num)\n",
    "print('num of parameters', params_num)\n",
    "\n",
    "energy=[]\n",
    "#replace 10 with image_num\n",
    "for image in range (10):\n",
    "    \n",
    "    init_params=x_train[image]\n",
    "    result_vqe=scipy.optimize.minimize(cost,init_params,method='COBYLA', callback=callback, tol=1e-5)\n",
    "    print(result_vqe.fun)\n",
    "    if result_vqe.fun<0:\n",
    "        energy.append(1)\n",
    "    else:\n",
    "        energy.append(0)\n",
    "\n",
    "print(energy)"
   ]
  }
 ],
 "metadata": {
  "kernelspec": {
   "display_name": "Python 3",
   "language": "python",
   "name": "python3"
  },
  "language_info": {
   "codemirror_mode": {
    "name": "ipython",
    "version": 3
   },
   "file_extension": ".py",
   "mimetype": "text/x-python",
   "name": "python",
   "nbconvert_exporter": "python",
   "pygments_lexer": "ipython3",
   "version": "3.10.12"
  }
 },
 "nbformat": 4,
 "nbformat_minor": 2
}
