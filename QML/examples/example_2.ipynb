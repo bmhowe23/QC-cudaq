{
 "cells": [
  {
   "cell_type": "code",
   "execution_count": 2,
   "metadata": {},
   "outputs": [],
   "source": [
    "import cudaq\n",
    "import numpy as np\n",
    "import scipy\n",
    "import pandas as pd\n",
    "from sklearn.datasets import fetch_openml\n",
    "from sklearn.model_selection import train_test_split\n",
    "from sklearn.datasets import fetch_openml\n",
    "from sklearn.preprocessing import StandardScaler\n",
    "from sklearn.decomposition import PCA"
   ]
  },
  {
   "cell_type": "code",
   "execution_count": 3,
   "metadata": {},
   "outputs": [],
   "source": [
    "mnist = fetch_openml('mnist_784', version=1, cache=True)\n",
    "data = mnist['data']\n",
    "labels = np.array(mnist['target'], dtype=np.int8)\n",
    "        \n",
    "\n",
    "labels_zero = labels[labels==0] \n",
    "labels_one = labels[labels==1] \n",
    "binary_labels = np.hstack((labels_zero, labels_one))\n",
    "digits_zero = data[labels==0]\n",
    "digits_one = data[labels==1]\n",
    "binary_digits = np.vstack((digits_zero, digits_one))\n",
    "        \n",
    "pca = PCA(n_components=4)\n",
    "sc = StandardScaler()\n",
    "binary_digits = sc.fit_transform(binary_digits)\n",
    "data = pca.fit_transform(binary_digits)\n",
    "data = (data-np.min(data))/(np.max(data)-np.min(data))\n",
    "\n",
    "\n",
    "x_train, x_test, y_train, y_test = train_test_split(data, binary_labels, test_size=0.2)\n",
    "\n",
    "x_train=x_train[0:500]\n",
    "x_test=x_test[0:200]\n",
    "y_train=y_train[0:500]\n",
    "y_test=y_test[0:200]"
   ]
  },
  {
   "cell_type": "code",
   "execution_count": 4,
   "metadata": {},
   "outputs": [],
   "source": [
    "cudaq.set_target(\"nvidia\")\n",
    "\n",
    "qubit_count = 4\n",
    "\n",
    "@cudaq.kernel\n",
    "def kernel(angles: list[float]):\n",
    "    # Allocate a qubit that is initialised to the |0> state.\n",
    "    qubit = cudaq.qvector(qubit_count)\n",
    "\n",
    "    # Define gates and the qubits they act upon.\n",
    "    for i in range(qubit_count):\n",
    "        ry(angles[i], qubit[i])\n",
    "    \n",
    "    for i in range(qubit_count-1):\n",
    "        x.ctrl(qubit[i], qubit[i+1])\n",
    "\n",
    "# Our hamiltonian will be the Z expectation value of our qubit.\n",
    "hamiltonian = cudaq.spin.z(0)\n",
    "\n",
    "# Initial gate parameters which intialize the qubit in the zero state\n",
    "init_parameters = [0.0,0.0,0.0,0.0]"
   ]
  },
  {
   "cell_type": "code",
   "execution_count": 5,
   "metadata": {},
   "outputs": [
    {
     "name": "stdout",
     "output_type": "stream",
     "text": [
      "Final energy:  -0.9999998986142378\n",
      "Opt. param:  [ 3.14164925  0.02328306 -0.00978729  0.15900816]\n"
     ]
    }
   ],
   "source": [
    "cost_values = []\n",
    "\n",
    "def cost(parameters):\n",
    "    expectation_value = cudaq.observe(kernel, hamiltonian, parameters).expectation()\n",
    "    #print(expectation_value)\n",
    "\n",
    "    return expectation_value\n",
    "\n",
    "def callback(xk):\n",
    "    cost_values.append(cost(xk))\n",
    "\n",
    "result_vqe=scipy.optimize.minimize(cost,init_parameters,method='COBYLA', callback=callback, tol=1e-5)\n",
    "print('Final energy: ', result_vqe.fun)\n",
    "print('Opt. param: ', result_vqe.x)"
   ]
  },
  {
   "cell_type": "code",
   "execution_count": 6,
   "metadata": {},
   "outputs": [
    {
     "data": {
      "text/plain": [
       "Text(0, 0.5, 'Cost Value')"
      ]
     },
     "execution_count": 6,
     "metadata": {},
     "output_type": "execute_result"
    },
    {
     "data": {
      "image/png": "[encoded data removed]",
      "text/plain": [
       "<Figure size 640x480 with 1 Axes>"
      ]
     },
     "metadata": {},
     "output_type": "display_data"
    }
   ],
   "source": [
    "import matplotlib.pyplot as plt\n",
    "\n",
    "x_values = list(range(len(cost_values)))\n",
    "y_values = cost_values\n",
    "\n",
    "plt.plot(x_values, y_values)\n",
    "\n",
    "plt.xlabel(\"Epochs\")\n",
    "plt.ylabel(\"Cost Value\")"
   ]
  }
 ],
 "metadata": {
  "kernelspec": {
   "display_name": "Python 3",
   "language": "python",
   "name": "python3"
  },
  "language_info": {
   "codemirror_mode": {
    "name": "ipython",
    "version": 3
   },
   "file_extension": ".py",
   "mimetype": "text/x-python",
   "name": "python",
   "nbconvert_exporter": "python",
   "pygments_lexer": "ipython3",
   "version": "3.10.12"
  }
 },
 "nbformat": 4,
 "nbformat_minor": 2
}
