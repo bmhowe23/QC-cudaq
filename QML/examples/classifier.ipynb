{
 "cells": [
  {
   "cell_type": "code",
   "execution_count": 39,
   "metadata": {},
   "outputs": [],
   "source": [
    "import cudaq\n",
    "import numpy as np\n",
    "import scipy\n",
    "import pandas as pd\n",
    "from sklearn.datasets import fetch_openml\n",
    "from sklearn.model_selection import train_test_split\n",
    "from sklearn.datasets import fetch_openml\n",
    "from sklearn.preprocessing import StandardScaler\n",
    "from sklearn.decomposition import PCA"
   ]
  },
  {
   "cell_type": "code",
   "execution_count": 40,
   "metadata": {},
   "outputs": [],
   "source": [
    "mnist = fetch_openml('mnist_784', version=1, cache=True)\n",
    "data = mnist['data']\n",
    "labels = np.array(mnist['target'], dtype=np.int8)\n",
    "\n",
    "labels_zero = labels[labels==0] \n",
    "labels_one = labels[labels==1] \n",
    "binary_labels = np.hstack((labels_zero, labels_one))\n",
    "digits_zero = data[labels==0]\n",
    "digits_one = data[labels==1]\n",
    "binary_digits = np.vstack((digits_zero, digits_one))\n",
    "        \n",
    "pca = PCA(n_components=4)\n",
    "sc = StandardScaler()\n",
    "binary_digits = sc.fit_transform(binary_digits)\n",
    "data = pca.fit_transform(binary_digits)\n",
    "data = (data-np.min(data))/(np.max(data)-np.min(data))\n",
    "\n",
    "x_train, x_test, y_train, y_test = train_test_split(data, binary_labels, test_size=0.2)\n",
    "\n",
    "x_train=x_train[0:500]\n",
    "x_test=x_test[0:200]\n",
    "y_train=y_train[0:500]\n",
    "y_test=y_test[0:200]"
   ]
  },
  {
   "cell_type": "code",
   "execution_count": 20,
   "metadata": {},
   "outputs": [
    {
     "data": {
      "text/plain": [
       "((500, 4), (200, 4), (500,), (200,))"
      ]
     },
     "execution_count": 20,
     "metadata": {},
     "output_type": "execute_result"
    }
   ],
   "source": [
    "x_train.shape, x_test.shape, y_train.shape, y_test.shape"
   ]
  },
  {
   "cell_type": "code",
   "execution_count": 32,
   "metadata": {},
   "outputs": [],
   "source": [
    "\n",
    "cudaq.set_target(\"nvidia\")\n",
    "qubit_count = 4\n",
    "\n",
    "@cudaq.kernel\n",
    "def encoding(qubit:cudaq.qvector, angles:list[float]):\n",
    "    # Define gates and the qubits they act upon.\n",
    "\n",
    "    qubit_num=qubit.size()\n",
    "    for i in range(qubit_num):\n",
    "        ry(angles[i], qubit[i])\n",
    "    \n",
    "    for i in range(qubit_num-1):\n",
    "        x.ctrl(qubit[i], qubit[i+1])\n",
    "\n",
    "@cudaq.kernel\n",
    "def training_layer(qubit:cudaq.qvector, alpha:list[float]):\n",
    "\n",
    "    qubit_num=qubit.size()\n",
    "\n",
    "    count=0\n",
    "    for i in range(qubit_num):\n",
    "        u3(alpha[count],alpha[count+1],alpha[count+2], qubit[i])\n",
    "        count+=3\n",
    "    \n",
    "    for i in range(qubit_num-1):\n",
    "        x.ctrl(qubit[i], qubit[i+1])\n",
    "    \n",
    "    x.ctrl(qubit[qubit_num-1], qubit[0])\n",
    "\n",
    "    for i in range(qubit_num):\n",
    "        u3(alpha[count],alpha[count+1],alpha[count+2], qubit[i])\n",
    "        count+=3\n",
    "\n",
    "    for i in range(qubit_num//2):\n",
    "        x.ctrl(qubit[i], qubit[i+2])\n",
    "    \n",
    "    for i in range(qubit_num-1, qubit_num//2-1, -1):\n",
    "        x.ctrl(qubit[i], qubit[i-2])\n",
    "\n",
    "@cudaq.kernel\n",
    "def main_kernel(qubit_count:int, angles: list[float],alpha:list[float]):\n",
    "    # Allocate a qubit that is initialised to the |0> state.\n",
    "    qubit = cudaq.qvector(qubit_count)\n",
    "\n",
    "    # encoding data\n",
    "    encoding(qubit,angles)\n",
    "    \n",
    "    # training layer\n",
    "    training_layer(qubit,alpha)\n",
    "\n",
    "\n",
    "# Our hamiltonian will be the Z expectation value of our qubit.\n",
    "ham = cudaq.spin.z(0)\n"
   ]
  },
  {
   "cell_type": "code",
   "execution_count": 37,
   "metadata": {},
   "outputs": [
    {
     "name": "stdout",
     "output_type": "stream",
     "text": [
      "[1.5604735340341649, -0.4343701128131203, 2.034773553111448, 4.78473940808937, -0.7356145218440903, -0.7355629438854153, 4.961243379652874, 2.410967307216451, -1.474897281901825, 1.7045026470610245, -1.4558696192831628, -1.4631331723745038, 0.7601468947977512, -6.01074716087542, -5.418989190668973, -1.7664783710685958, -3.1819028069697457, 0.9872371114915007, -2.8526417649400995, -4.436882932752625, 4.604471405186879, -0.709297166963182, 0.21214611175768935, -4.4759784350235785, 0.0]\n",
      "0.0\n"
     ]
    }
   ],
   "source": [
    "np.random.seed(42)\n",
    "alpha=np.random.normal(0, np.pi, 3*(qubit_count*2))\n",
    "alpha=alpha.tolist()\n",
    "\n",
    "bias=[0.0]\n",
    "alpha=alpha+bias\n",
    "\n",
    "print(alpha)\n",
    "n_alpha=len(alpha)\n",
    "print(alpha[n-1])\n"
   ]
  },
  {
   "cell_type": "code",
   "execution_count": 27,
   "metadata": {},
   "outputs": [],
   "source": [
    "def cost(main_kernel, ham,qubit_count,angles,alpha):\n",
    "    expectation_value = cudaq.observe(main_kernel, ham, qubit_count,angles,alpha).expectation()\n",
    "    return expectation_value\n",
    "\n",
    "def square_loss(labels, predictions):\n",
    "    loss = 0\n",
    "    for l, p in zip(labels, predictions):\n",
    "        loss = loss + (l - p) ** 2\n",
    "\n",
    "    loss = loss / len(labels)\n",
    "    return loss\n",
    "\n",
    "def accuracy(labels, predictions):\n",
    "\n",
    "    loss = 0\n",
    "    for l, p in zip(labels, predictions):\n",
    "        if abs(l - p) < 1e-5:\n",
    "            loss = loss + 1\n",
    "    loss = loss / len(labels)\n",
    "\n",
    "    return loss"
   ]
  },
  {
   "cell_type": "code",
   "execution_count": 38,
   "metadata": {},
   "outputs": [
    {
     "ename": "AttributeError",
     "evalue": "'cudaq.mlir._mlir_libs._quakeDialects.cudaq_runtime' object has no attribute 'name'",
     "output_type": "error",
     "traceback": [
      "\u001b[0;31m---------------------------------------------------------------------------\u001b[0m",
      "\u001b[0;31mAttributeError\u001b[0m                            Traceback (most recent call last)",
      "Cell \u001b[0;32mIn[38], line 14\u001b[0m\n\u001b[1;32m     10\u001b[0m     \u001b[38;5;28mprint\u001b[39m(y_train[:\u001b[38;5;241m10\u001b[39m])\n\u001b[1;32m     12\u001b[0m     \u001b[38;5;28;01mreturn\u001b[39;00m square_loss(y_train[:\u001b[38;5;241m10\u001b[39m],pred)\n\u001b[0;32m---> 14\u001b[0m res\u001b[38;5;241m=\u001b[39m\u001b[43mloss\u001b[49m\u001b[43m(\u001b[49m\u001b[43mmain_kernel\u001b[49m\u001b[43m,\u001b[49m\u001b[43m \u001b[49m\u001b[43mham\u001b[49m\u001b[43m,\u001b[49m\u001b[43m \u001b[49m\u001b[43mqubit_count\u001b[49m\u001b[43m,\u001b[49m\u001b[43m \u001b[49m\u001b[43mx_train\u001b[49m\u001b[43m,\u001b[49m\u001b[43m \u001b[49m\u001b[43malpha\u001b[49m\u001b[43m)\u001b[49m\n\u001b[1;32m     15\u001b[0m \u001b[38;5;28mprint\u001b[39m(res)\n",
      "Cell \u001b[0;32mIn[38], line 6\u001b[0m, in \u001b[0;36mloss\u001b[0;34m(alpha, main_kernel, ham, qubit_count, x_train)\u001b[0m\n\u001b[1;32m      2\u001b[0m pred\u001b[38;5;241m=\u001b[39m[]\n\u001b[1;32m      4\u001b[0m \u001b[38;5;28;01mfor\u001b[39;00m image \u001b[38;5;129;01min\u001b[39;00m \u001b[38;5;28mrange\u001b[39m (\u001b[38;5;241m10\u001b[39m):\n\u001b[0;32m----> 6\u001b[0m     eig\u001b[38;5;241m=\u001b[39m\u001b[43mcost\u001b[49m\u001b[43m(\u001b[49m\u001b[43mmain_kernel\u001b[49m\u001b[43m,\u001b[49m\u001b[43m \u001b[49m\u001b[43mham\u001b[49m\u001b[43m,\u001b[49m\u001b[43m \u001b[49m\u001b[43mqubit_count\u001b[49m\u001b[43m,\u001b[49m\u001b[43m \u001b[49m\u001b[43mx_train\u001b[49m\u001b[43m[\u001b[49m\u001b[43mimage\u001b[49m\u001b[43m]\u001b[49m\u001b[43m,\u001b[49m\u001b[43m \u001b[49m\u001b[43malpha\u001b[49m\u001b[43m)\u001b[49m\n\u001b[1;32m      7\u001b[0m     pred\u001b[38;5;241m.\u001b[39mappend(eig\u001b[38;5;241m+\u001b[39malpha[n_alpha\u001b[38;5;241m-\u001b[39m\u001b[38;5;241m1\u001b[39m])\n\u001b[1;32m      9\u001b[0m \u001b[38;5;28mprint\u001b[39m(pred)\n",
      "Cell \u001b[0;32mIn[27], line 2\u001b[0m, in \u001b[0;36mcost\u001b[0;34m(main_kernel, ham, qubit_count, angles, alpha)\u001b[0m\n\u001b[1;32m      1\u001b[0m \u001b[38;5;28;01mdef\u001b[39;00m \u001b[38;5;21mcost\u001b[39m(main_kernel, ham,qubit_count,angles,alpha):\n\u001b[0;32m----> 2\u001b[0m     expectation_value \u001b[38;5;241m=\u001b[39m \u001b[43mcudaq\u001b[49m\u001b[38;5;241;43m.\u001b[39;49m\u001b[43mobserve\u001b[49m\u001b[43m(\u001b[49m\u001b[43mmain_kernel\u001b[49m\u001b[43m,\u001b[49m\u001b[43m \u001b[49m\u001b[43mham\u001b[49m\u001b[43m,\u001b[49m\u001b[43m \u001b[49m\u001b[43mqubit_count\u001b[49m\u001b[43m,\u001b[49m\u001b[43mangles\u001b[49m\u001b[43m,\u001b[49m\u001b[43malpha\u001b[49m\u001b[43m)\u001b[49m\u001b[38;5;241m.\u001b[39mexpectation()\n\u001b[1;32m      3\u001b[0m     \u001b[38;5;28;01mreturn\u001b[39;00m expectation_value\n",
      "File \u001b[0;32m/opt/nvidia/cudaq/cudaq/runtime/observe.py:72\u001b[0m, in \u001b[0;36mobserve\u001b[0;34m(kernel, spin_operator, shots_count, noise_model, execution, *args)\u001b[0m\n\u001b[1;32m     34\u001b[0m \u001b[38;5;28;01mdef\u001b[39;00m \u001b[38;5;21mobserve\u001b[39m(kernel,\n\u001b[1;32m     35\u001b[0m             spin_operator,\n\u001b[1;32m     36\u001b[0m             \u001b[38;5;241m*\u001b[39margs,\n\u001b[1;32m     37\u001b[0m             shots_count\u001b[38;5;241m=\u001b[39m\u001b[38;5;241m0\u001b[39m,\n\u001b[1;32m     38\u001b[0m             noise_model\u001b[38;5;241m=\u001b[39m\u001b[38;5;28;01mNone\u001b[39;00m,\n\u001b[1;32m     39\u001b[0m             execution\u001b[38;5;241m=\u001b[39m\u001b[38;5;28;01mNone\u001b[39;00m):\n\u001b[1;32m     40\u001b[0m \u001b[38;5;250m    \u001b[39m\u001b[38;5;124;03m\"\"\"Compute the expected value of the `spin_operator` with respect to \u001b[39;00m\n\u001b[1;32m     41\u001b[0m \u001b[38;5;124;03mthe `kernel`. If the input `spin_operator` is a list of `SpinOperator` then compute \u001b[39;00m\n\u001b[1;32m     42\u001b[0m \u001b[38;5;124;03mthe expected value of every operator in the list and return a list of results.\u001b[39;00m\n\u001b[0;32m   (...)\u001b[0m\n\u001b[1;32m     69\u001b[0m \u001b[38;5;124;03m    :class:`ObserveResult` will also contain a :class:`SampleResult` dictionary.\u001b[39;00m\n\u001b[1;32m     70\u001b[0m \u001b[38;5;124;03m    \"\"\"\u001b[39;00m\n\u001b[0;32m---> 72\u001b[0m     validityCheck \u001b[38;5;241m=\u001b[39m \u001b[43mcudaq_runtime\u001b[49m\u001b[38;5;241;43m.\u001b[39;49m\u001b[43misValidObserveKernel\u001b[49m\u001b[43m(\u001b[49m\u001b[43mkernel\u001b[49m\u001b[43m)\u001b[49m\n\u001b[1;32m     73\u001b[0m     \u001b[38;5;28;01mif\u001b[39;00m \u001b[38;5;129;01mnot\u001b[39;00m validityCheck[\u001b[38;5;241m0\u001b[39m]:\n\u001b[1;32m     74\u001b[0m         \u001b[38;5;28;01mraise\u001b[39;00m \u001b[38;5;167;01mRuntimeError\u001b[39;00m(\u001b[38;5;124m'\u001b[39m\u001b[38;5;124mobserve specification violated for \u001b[39m\u001b[38;5;130;01m\\'\u001b[39;00m\u001b[38;5;124m'\u001b[39m \u001b[38;5;241m+\u001b[39m\n\u001b[1;32m     75\u001b[0m                            kernel\u001b[38;5;241m.\u001b[39mname \u001b[38;5;241m+\u001b[39m \u001b[38;5;124m'\u001b[39m\u001b[38;5;130;01m\\'\u001b[39;00m\u001b[38;5;124m: \u001b[39m\u001b[38;5;124m'\u001b[39m \u001b[38;5;241m+\u001b[39m validityCheck[\u001b[38;5;241m1\u001b[39m])\n",
      "\u001b[0;31mAttributeError\u001b[0m: 'cudaq.mlir._mlir_libs._quakeDialects.cudaq_runtime' object has no attribute 'name'"
     ]
    }
   ],
   "source": [
    "\n",
    "def loss(alpha, main_kernel, ham, qubit_count, x_train):\n",
    "    pred=[]\n",
    "\n",
    "    for image in range (10):\n",
    "    \n",
    "        eig=cost(main_kernel, ham, qubit_count, x_train[image], alpha)\n",
    "        pred.append(eig+alpha[n_alpha-1])\n",
    "\n",
    "    print(pred)\n",
    "    print(y_train[:10])\n",
    "\n",
    "    return square_loss(y_train[:10],pred)\n",
    "\n",
    "res=loss(main_kernel, ham, qubit_count, x_train, alpha)\n",
    "print(res)"
   ]
  },
  {
   "cell_type": "code",
   "execution_count": null,
   "metadata": {},
   "outputs": [],
   "source": [
    "result_opt=scipy.optimize.minimize(loss, alpha, method='COBYLA', callback=callback, tol=1e-5)"
   ]
  }
 ],
 "metadata": {
  "kernelspec": {
   "display_name": "Python 3",
   "language": "python",
   "name": "python3"
  },
  "language_info": {
   "codemirror_mode": {
    "name": "ipython",
    "version": 3
   },
   "file_extension": ".py",
   "mimetype": "text/x-python",
   "name": "python",
   "nbconvert_exporter": "python",
   "pygments_lexer": "ipython3",
   "version": "3.10.12"
  }
 },
 "nbformat": 4,
 "nbformat_minor": 2
}
